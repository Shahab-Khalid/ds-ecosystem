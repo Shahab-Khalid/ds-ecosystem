{
 "cells": [
  {
   "cell_type": "markdown",
   "id": "ce0ac297",
   "metadata": {},
   "source": [
    "# Data Science Tools and Ecosystem"
   ]
  },
  {
   "cell_type": "markdown",
   "id": "f0397fc2",
   "metadata": {},
   "source": [
    "In this notebook, Data Science Tools and Ecosystem are summarized."
   ]
  },
  {
   "cell_type": "markdown",
   "id": "65ec7639",
   "metadata": {},
   "source": [
    "**Objectives:**\n",
    "\n",
    "    - List of popular languages used by Data Scientist\n",
    "    - List of commonly used libraries used by Data Scientist\n",
    "    - Open Source Developer Environments\n",
    "    - Arithematic Expressions in Python"
   ]
  },
  {
   "cell_type": "markdown",
   "id": "678a18b4",
   "metadata": {},
   "source": [
    "Some of the popular languages that Data Scientists use are:\n",
    "\n",
    "    1. Python\n",
    "    2. R\n",
    "    3. Julia\n",
    "    4. Scala"
   ]
  },
  {
   "cell_type": "markdown",
   "id": "ded3982f",
   "metadata": {},
   "source": [
    "Some of the commonly used libraries used by Data Scientists include:\n",
    "    \n",
    "    1. Pandas \n",
    "    2. Numpy\n",
    "    3. Tensorflow\n",
    "    4. ggplot\n",
    "    5. matplotlib\n",
    "    6. plotly"
   ]
  },
  {
   "cell_type": "markdown",
   "id": "1dee926b",
   "metadata": {},
   "source": [
    "|Data Science Tools|\n",
    "-----------------------------\n",
    "|Jupyter Notebook|\n",
    "|Jupyter Lab|\n",
    "|Spyder|"
   ]
  },
  {
   "cell_type": "markdown",
   "id": "99325a98",
   "metadata": {},
   "source": [
    "### Below are a few examples of evaluating arithmetic expressions in Python."
   ]
  },
  {
   "cell_type": "code",
   "execution_count": 4,
   "id": "45d6dab1",
   "metadata": {},
   "outputs": [
    {
     "data": {
      "text/plain": [
       "17"
      ]
     },
     "execution_count": 4,
     "metadata": {},
     "output_type": "execute_result"
    }
   ],
   "source": [
    "#This a simple arithmetic expression to mutiply then add integers\n",
    "\n",
    "(3*4)+5"
   ]
  },
  {
   "cell_type": "code",
   "execution_count": 5,
   "id": "eb180c06",
   "metadata": {},
   "outputs": [
    {
     "data": {
      "text/plain": [
       "3.3333333333333335"
      ]
     },
     "execution_count": 5,
     "metadata": {},
     "output_type": "execute_result"
    }
   ],
   "source": [
    "#This will convert 200 minutes to hours by diving by 60\n",
    "\n",
    "200/60"
   ]
  },
  {
   "cell_type": "markdown",
   "id": "bbe8a98b",
   "metadata": {},
   "source": [
    "## Author\n",
    "Shahab Khalid"
   ]
  }
 ],
 "metadata": {
  "kernelspec": {
   "display_name": "Python 3 (ipykernel)",
   "language": "python",
   "name": "python3"
  },
  "language_info": {
   "codemirror_mode": {
    "name": "ipython",
    "version": 3
   },
   "file_extension": ".py",
   "mimetype": "text/x-python",
   "name": "python",
   "nbconvert_exporter": "python",
   "pygments_lexer": "ipython3",
   "version": "3.10.9"
  }
 },
 "nbformat": 4,
 "nbformat_minor": 5
}
